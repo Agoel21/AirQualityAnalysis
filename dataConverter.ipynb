{
 "cells": [
  {
   "cell_type": "code",
   "execution_count": 2,
   "metadata": {},
   "outputs": [],
   "source": [
    "import pandas as pd"
   ]
  },
  {
   "cell_type": "code",
   "execution_count": 3,
   "metadata": {},
   "outputs": [
    {
     "name": "stdout",
     "output_type": "stream",
     "text": [
      "Bi-weekly data saved to 'biweekly_air_quality_data.csv'\n"
     ]
    }
   ],
   "source": [
    "# Load the dataset\n",
    "# Replace 'air_quality_data.csv' with the path to your dataset\n",
    "df = pd.read_csv('./Data/delhi_aqi.csv')\n",
    "\n",
    "# Convert the 'date' column to datetime format\n",
    "df['date'] = pd.to_datetime(df['date'])\n",
    "\n",
    "# Set the 'date' column as the index\n",
    "df.set_index('date', inplace=True)\n",
    "\n",
    "# Resample the data bi-weekly and calculate the mean for each pollutant\n",
    "biweekly_data = df.resample('2W').mean().round(2)\n",
    "\n",
    "# Reset the index to make the 'date' column visible again\n",
    "biweekly_data.reset_index(inplace=True)\n",
    "\n",
    "# Save the summarized bi-weekly data to a new CSV file\n",
    "biweekly_data.to_csv('./Data/biweekly_air_quality_data.csv', index=False)\n",
    "\n",
    "print(\"Bi-weekly data saved to 'biweekly_air_quality_data.csv'\")\n"
   ]
  },
  {
   "cell_type": "code",
   "execution_count": null,
   "metadata": {},
   "outputs": [],
   "source": []
  }
 ],
 "metadata": {
  "kernelspec": {
   "display_name": "my-env",
   "language": "python",
   "name": "my-env"
  },
  "language_info": {
   "codemirror_mode": {
    "name": "ipython",
    "version": 3
   },
   "file_extension": ".py",
   "mimetype": "text/x-python",
   "name": "python",
   "nbconvert_exporter": "python",
   "pygments_lexer": "ipython3",
   "version": "3.12.2"
  }
 },
 "nbformat": 4,
 "nbformat_minor": 2
}
